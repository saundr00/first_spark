{
 "cells": [
  {
   "cell_type": "code",
   "execution_count": 1,
   "id": "fe9ea885-ad21-490f-8a46-be2fb3ebae35",
   "metadata": {},
   "outputs": [],
   "source": [
    "mnm_file = \"/mnt/data/mnm_parquet\""
   ]
  },
  {
   "cell_type": "code",
   "execution_count": 2,
   "id": "abc09a4e-e771-495f-9f0f-1dcb2a843f30",
   "metadata": {},
   "outputs": [
    {
     "name": "stderr",
     "output_type": "stream",
     "text": [
      "                                                                                \r"
     ]
    }
   ],
   "source": [
    "mnm_df = (spark.read.format(\"parquet\")\n",
    "        .load(mnm_file))"
   ]
  },
  {
   "cell_type": "code",
   "execution_count": 3,
   "id": "0c17d588-1c70-40a4-aa11-0a1bf16a2ac5",
   "metadata": {},
   "outputs": [
    {
     "name": "stderr",
     "output_type": "stream",
     "text": [
      "[Stage 1:>                                                          (0 + 1) / 1]\r"
     ]
    },
    {
     "name": "stdout",
     "output_type": "stream",
     "text": [
      "+-----+-----+-----+\n",
      "|State|Color|Count|\n",
      "+-----+-----+-----+\n",
      "|OR   |Red  |62   |\n",
      "|OR   |Brown|69   |\n",
      "|NV   |Blue |50   |\n",
      "|NV   |Blue |12   |\n",
      "|NV   |Green|46   |\n",
      "+-----+-----+-----+\n",
      "only showing top 5 rows\n",
      "\n"
     ]
    },
    {
     "name": "stderr",
     "output_type": "stream",
     "text": [
      "                                                                                \r"
     ]
    }
   ],
   "source": [
    "mnm_df.show(n=5, truncate=False)"
   ]
  },
  {
   "cell_type": "code",
   "execution_count": 4,
   "id": "bf43dc3d-18cf-444d-8f12-cf894446d3ec",
   "metadata": {},
   "outputs": [],
   "source": [
    "count_mnm_df = (mnm_df.select(\"State\", \"Color\", \"Count\")\n",
    "                    .groupBy(\"State\", \"Color\")\n",
    "                    .sum(\"Count\")\n",
    "                    .orderBy(\"sum(Count)\", ascending=False))"
   ]
  },
  {
   "cell_type": "code",
   "execution_count": 5,
   "id": "29c144a7-1b2b-4143-9f51-8d44402576d1",
   "metadata": {},
   "outputs": [
    {
     "name": "stderr",
     "output_type": "stream",
     "text": [
      "[Stage 2:>                                                          (0 + 1) / 1]\r"
     ]
    },
    {
     "name": "stdout",
     "output_type": "stream",
     "text": [
      "+-----+------+----------+\n",
      "|State|Color |sum(Count)|\n",
      "+-----+------+----------+\n",
      "|NV   |Yellow|1705      |\n",
      "|OR   |Red   |1445      |\n",
      "|TX   |Red   |1420      |\n",
      "|CA   |Orange|1359      |\n",
      "|CO   |Orange|1316      |\n",
      "|TX   |Orange|1307      |\n",
      "|NM   |Green |1298      |\n",
      "|WY   |Yellow|1257      |\n",
      "|OR   |Blue  |1241      |\n",
      "|WY   |Blue  |1240      |\n",
      "|WY   |Orange|1237      |\n",
      "|TX   |Yellow|1182      |\n",
      "|NV   |Orange|1165      |\n",
      "|UT   |Brown |1146      |\n",
      "|AZ   |Blue  |1130      |\n",
      "|CA   |Red   |1117      |\n",
      "|NM   |Blue  |1076      |\n",
      "|NV   |Brown |1060      |\n",
      "|CA   |Yellow|1052      |\n",
      "|UT   |Blue  |1037      |\n",
      "|CO   |Red   |1019      |\n",
      "|TX   |Brown |1009      |\n",
      "|AZ   |Brown |985       |\n",
      "|WA   |Blue  |978       |\n",
      "|AZ   |Green |964       |\n",
      "|WA   |Red   |950       |\n",
      "|NM   |Orange|947       |\n",
      "|WA   |Brown |943       |\n",
      "|WA   |Green |923       |\n",
      "|CA   |Green |917       |\n",
      "|AZ   |Orange|898       |\n",
      "|CA   |Brown |891       |\n",
      "|CA   |Blue  |888       |\n",
      "|AZ   |Red   |883       |\n",
      "|UT   |Yellow|880       |\n",
      "|NV   |Red   |860       |\n",
      "|OR   |Yellow|856       |\n",
      "|NM   |Yellow|841       |\n",
      "|NV   |Blue  |813       |\n",
      "|NM   |Red   |804       |\n",
      "|OR   |Orange|786       |\n",
      "|CO   |Green |783       |\n",
      "|OR   |Brown |728       |\n",
      "|NM   |Brown |696       |\n",
      "|NV   |Green |695       |\n",
      "|UT   |Orange|691       |\n",
      "|TX   |Blue  |690       |\n",
      "|OR   |Green |686       |\n",
      "|UT   |Red   |681       |\n",
      "|CO   |Brown |673       |\n",
      "|AZ   |Yellow|667       |\n",
      "|TX   |Green |642       |\n",
      "|CO   |Yellow|634       |\n",
      "|UT   |Green |605       |\n",
      "|WY   |Brown |591       |\n",
      "|WA   |Orange|556       |\n",
      "|WY   |Red   |527       |\n",
      "|WY   |Green |507       |\n",
      "|CO   |Blue  |471       |\n",
      "|WA   |Yellow|239       |\n",
      "+-----+------+----------+\n",
      "\n"
     ]
    },
    {
     "name": "stderr",
     "output_type": "stream",
     "text": [
      "                                                                                \r"
     ]
    }
   ],
   "source": [
    "count_mnm_df.show(n=60, truncate=False)"
   ]
  },
  {
   "cell_type": "code",
   "execution_count": 6,
   "id": "e362a34c-d851-4834-9ec1-cbaea378f9b1",
   "metadata": {},
   "outputs": [
    {
     "name": "stderr",
     "output_type": "stream",
     "text": [
      "[Stage 5:>                                                          (0 + 1) / 1]\r"
     ]
    },
    {
     "name": "stdout",
     "output_type": "stream",
     "text": [
      "Total Rows = 60\n"
     ]
    },
    {
     "name": "stderr",
     "output_type": "stream",
     "text": [
      "                                                                                \r"
     ]
    }
   ],
   "source": [
    "print(\"Total Rows = %d\" % (count_mnm_df.count()))"
   ]
  },
  {
   "cell_type": "code",
   "execution_count": 7,
   "id": "399db494-de18-4979-9ac3-d6b7af6d6ad3",
   "metadata": {},
   "outputs": [],
   "source": [
    "ca_count_mnm_df = (mnm_df.select(\"*\")\n",
    "                       .where(mnm_df.State == 'AZ')\n",
    "                       .groupBy(\"State\", \"Color\")\n",
    "                       .sum(\"Count\")\n",
    "                       .orderBy(\"sum(Count)\", ascending=False))"
   ]
  },
  {
   "cell_type": "code",
   "execution_count": 8,
   "id": "6ad677c8-7a94-4d39-88eb-2f8b48bf143e",
   "metadata": {},
   "outputs": [
    {
     "name": "stdout",
     "output_type": "stream",
     "text": [
      "+-----+------+----------+\n",
      "|State|Color |sum(Count)|\n",
      "+-----+------+----------+\n",
      "|AZ   |Blue  |1130      |\n",
      "|AZ   |Brown |985       |\n",
      "|AZ   |Green |964       |\n",
      "|AZ   |Orange|898       |\n",
      "|AZ   |Red   |883       |\n",
      "|AZ   |Yellow|667       |\n",
      "+-----+------+----------+\n",
      "\n"
     ]
    }
   ],
   "source": [
    "ca_count_mnm_df.show(n=10, truncate=False)"
   ]
  }
 ],
 "metadata": {
  "kernelspec": {
   "display_name": "Python 3 (ipykernel)",
   "language": "python",
   "name": "python3"
  },
  "language_info": {
   "codemirror_mode": {
    "name": "ipython",
    "version": 3
   },
   "file_extension": ".py",
   "mimetype": "text/x-python",
   "name": "python",
   "nbconvert_exporter": "python",
   "pygments_lexer": "ipython3",
   "version": "3.10.12"
  }
 },
 "nbformat": 4,
 "nbformat_minor": 5
}
